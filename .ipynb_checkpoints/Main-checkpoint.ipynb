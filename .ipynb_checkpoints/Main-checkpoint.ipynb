{
 "cells": [
  {
   "cell_type": "code",
   "execution_count": 20,
   "metadata": {},
   "outputs": [],
   "source": [
    "from textblob import TextBlob"
   ]
  },
  {
   "cell_type": "code",
   "execution_count": 21,
   "metadata": {},
   "outputs": [
    {
     "name": "stderr",
     "output_type": "stream",
     "text": [
      "[nltk_data] Downloading package punkt to /home/tangos/nltk_data...\n",
      "[nltk_data]   Unzipping tokenizers/punkt.zip.\n"
     ]
    },
    {
     "data": {
      "text/plain": [
       "True"
      ]
     },
     "execution_count": 21,
     "metadata": {},
     "output_type": "execute_result"
    }
   ],
   "source": [
    "import nltk\n",
    "nltk.download('punkt')"
   ]
  },
  {
   "cell_type": "code",
   "execution_count": null,
   "metadata": {},
   "outputs": [],
   "source": [
    "# Summarization techniques\n",
    "\n",
    "# extractive - extract the most important sentences from a document (subset of the actual doc)\n",
    "\n",
    "# abstractive - brief/summarize the actual document in your own words\n",
    "\n",
    "# ntf = base words from all sentences, each word)/(word appeasr most\n",
    "\n",
    "# idf = sentences in doc)/(number of sentences word appears in"
   ]
  },
  {
   "cell_type": "code",
   "execution_count": null,
   "metadata": {},
   "outputs": [],
   "source": [
    "\n",
    "# slip document by of paragraphs\n",
    "def split_into_paragraphs(doc):\n",
    "    return doc.split(\"\\n\")"
   ]
  },
  {
   "cell_type": "code",
   "execution_count": 40,
   "metadata": {},
   "outputs": [],
   "source": [
    "# take parameters of text file and postive integer\n",
    "\n",
    "\n",
    "def summarize_doc(input_file, N):\n",
    "# Open file\n",
    "# read content\n",
    "    f = open(input_file, \"r\")\n",
    "    content = f.read()\n",
    "    \n",
    "#     doc = TextBlob(content)\n",
    "    \n",
    "    paragraphs = split_into_paragraphs(content)\n",
    "    \n",
    "#     for paragraph in paragraphs:        \n",
    "#     # get sentences per paragraph\n",
    "#         sentences = doc.raw_sentences \n",
    "\n",
    "#     # get words in sentence \n",
    "#         word = doc.words\n",
    "        \n",
    "    \n",
    "\n",
    "# summarize all the sentences in the file\n",
    "\n",
    "# rank the sentences\n",
    "\n",
    "# return the top N sentences\n",
    "\n",
    "# concatinate sentences into a string and add to output file .smz\n",
    "\n",
    "# return the .smz\n",
    "#     return true"
   ]
  },
  {
   "cell_type": "code",
   "execution_count": 41,
   "metadata": {},
   "outputs": [
    {
     "name": "stdout",
     "output_type": "stream",
     "text": [
      "2\n"
     ]
    }
   ],
   "source": [
    "summarize_doc('input_doc.txt', 1)"
   ]
  },
  {
   "cell_type": "code",
   "execution_count": null,
   "metadata": {},
   "outputs": [],
   "source": []
  }
 ],
 "metadata": {
  "kernelspec": {
   "display_name": "Python 3",
   "language": "python",
   "name": "python3"
  },
  "language_info": {
   "codemirror_mode": {
    "name": "ipython",
    "version": 3
   },
   "file_extension": ".py",
   "mimetype": "text/x-python",
   "name": "python",
   "nbconvert_exporter": "python",
   "pygments_lexer": "ipython3",
   "version": "3.7.5"
  }
 },
 "nbformat": 4,
 "nbformat_minor": 2
}

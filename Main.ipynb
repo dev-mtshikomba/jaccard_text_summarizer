{
 "cells": [
  {
   "cell_type": "code",
   "execution_count": 1,
   "metadata": {},
   "outputs": [],
   "source": [
    "from Jaccard_Summarizer import summarize_doc"
   ]
  },
  {
   "cell_type": "code",
   "execution_count": 7,
   "metadata": {
    "scrolled": true
   },
   "outputs": [
    {
     "name": "stdout",
     "output_type": "stream",
     "text": [
      "reading rock.txt file content...\n",
      "\n",
      "stemming document and removing file stop words...\n",
      "\n",
      "summarizing document...\n",
      "\n",
      "summarized content saved to rock_30.smz...\n",
      "\n",
      "done...\n"
     ]
    }
   ],
   "source": [
    "summarize_doc('rock.txt', 30)"
   ]
  },
  {
   "cell_type": "code",
   "execution_count": null,
   "metadata": {},
   "outputs": [],
   "source": [
    "My algorithm is based off the Jaccard Similiarity. I check how similar each sentence is to the fist sentence of the document\n",
    "using the jaccard similarity. Based on this results I rank the sentences in the document from most similar to least similar. After ranking the sentences I will\n",
    "pick the top N sentences and use them to summarize (create a much shorter version of the document) the document. "
   ]
  }
 ],
 "metadata": {
  "kernelspec": {
   "display_name": "Python 3",
   "language": "python",
   "name": "python3"
  },
  "language_info": {
   "codemirror_mode": {
    "name": "ipython",
    "version": 3
   },
   "file_extension": ".py",
   "mimetype": "text/x-python",
   "name": "python",
   "nbconvert_exporter": "python",
   "pygments_lexer": "ipython3",
   "version": "3.7.5"
  }
 },
 "nbformat": 4,
 "nbformat_minor": 2
}
